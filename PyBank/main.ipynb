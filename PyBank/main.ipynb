{
 "cells": [
  {
   "cell_type": "code",
   "execution_count": 187,
   "metadata": {},
   "outputs": [
    {
     "name": "stdout",
     "output_type": "stream",
     "text": [
      "Current Working Directory: /Users/pyaghmaei/bootcamp/python-homework/PyBank\n"
     ]
    }
   ],
   "source": [
    "# Set the path using Pathlib\n",
    "from pathlib import Path\n",
    "print(f\"Current Working Directory: {Path.cwd()}\")"
   ]
  },
  {
   "cell_type": "code",
   "execution_count": 188,
   "metadata": {},
   "outputs": [],
   "source": [
    "# Modules\n",
    "import csv\n",
    "\n",
    "# Set path for file\n",
    "csvpath = Path('/Users/pyaghmaei/cu-nyc-virt-fin-pt-03-2021-u-c/02-Homework/02-Python/Instructions/PyBank/Resources/budget_data.csv')"
   ]
  },
  {
   "cell_type": "code",
   "execution_count": 189,
   "metadata": {},
   "outputs": [],
   "source": [
    "# initialize variables\n",
    "total_months = 0\n",
    "months =[]\n",
    "Total = 0\n",
    "average = 0\n",
    "previous = 0\n",
    "Total_Change = 0\n",
    "list_change = []"
   ]
  },
  {
   "cell_type": "code",
   "execution_count": 190,
   "metadata": {},
   "outputs": [
    {
     "name": "stdout",
     "output_type": "stream",
     "text": [
      "Total Months: 86\n",
      "Total: $ 38382578\n",
      "Avrage Change: $ -2315.12\n",
      "Greatest Increase in Profits: Feb-2012 ($1926159)\n",
      "Greatest Decrease in Profits: Sep-2013 ($-2196167)\n"
     ]
    }
   ],
   "source": [
    "# Open the CSV, set comma as delimiter, pass in the csv file to the csv.reader() function\n",
    "with open (csvpath, newline=\"\") as csvfile:\n",
    "    csvreader = csv.reader(csvfile, delimiter=\",\")\n",
    "    csv_header=next(csvreader)\n",
    "    # print(csv_header)\n",
    "    # loop through\n",
    "    for row in csvreader:\n",
    "        # set the first row as the begining of the month to count\n",
    "        month = row [0]\n",
    "        # calculate total number of months included in the dataset\n",
    "        total_months += 1\n",
    "        months.append(row[0])\n",
    "        # calculate average of the changes in Profit/Losses over the entire period\n",
    "        Profit_loss = int(row[1])\n",
    "        Total += Profit_loss\n",
    "        # set variable current change to calculate profit change between current and previous month\n",
    "        # set variable previous to represent previous month\n",
    "        # skip first month for calcualting profit/loss change\n",
    "        if previous == 0:\n",
    "            current_change = 0\n",
    "        # starting with the second month compare profit loss with the previous month listed an   \n",
    "        else:\n",
    "            current_change = Profit_loss - previous\n",
    "        list_change.append(current_change)    \n",
    "        Total_Change += current_change\n",
    "        # reset previous month and go through calculations\n",
    "        previous = Profit_loss\n",
    "    # use max and min fucntions to calculate greatest increase and decrease Profit/loss for data set    \n",
    "    max_increase = max(list_change)\n",
    "    max_decrease = min(list_change)\n",
    "    # find the corresponding month for associated with greatest increase and greatest decrease\n",
    "    max_inc_month = list_change.index(max(list_change))\n",
    "    min_inc_month = list_change.index(min(list_change))\n",
    "    # print out total number of months included in the dataset\n",
    "    print(\"Total Months:\", total_months)\n",
    "    # print out total Profit/Losses over the entire period\n",
    "    print(\"Total: $\", Total)\n",
    "    # print out average changes in Profit/Losses over the entire period rounded to 2 decimal points\n",
    "    print (\"Avrage Change: $\", round(Total_Change/(total_months-1),2))\n",
    "    # print out greatest increase in profit/losses over the entire period\n",
    "    print (f\"Greatest Increase in Profits: {months[max_inc_month]} (${(max_increase)})\")\n",
    "    # print out greatest decrease in profit/losses over the entire period\n",
    "    print (f\"Greatest Decrease in Profits: {months[min_inc_month]} (${(max_decrease)})\")\n",
    "\n",
    "# Open the output path as a file object and write results to output_file\n",
    "\n",
    "output_file = Path('/Users/pyaghmaei/bootcamp/python-homework/PyBank/output.txt')\n",
    "with open(output_file,\"w\") as file:\n",
    "    file.write(\"Financial Analysis\\n\")\n",
    "    file.write(\"-------------------------------\\n\\n\")\n",
    "    file.write(f\"Total Months: {total_months}\\n\")\n",
    "    file.write(f\"Total: ${Total}\\n\")\n",
    "    file.write(f\"Avrage Change: $ {round(Total_Change/(total_months-1),2)}\\n\")\n",
    "    file.write(f\"Greatest Increase in Profits: {months[max_inc_month]} (${(max_increase)})\\n\") \n",
    "    file.write(f\"Greatest Decrease in Profits: {months[min_inc_month]} (${(max_decrease)})\\n\")"
   ]
  },
  {
   "cell_type": "code",
   "execution_count": null,
   "metadata": {},
   "outputs": [],
   "source": []
  }
 ],
 "metadata": {
  "kernelspec": {
   "display_name": "Python 3",
   "language": "python",
   "name": "python3"
  },
  "language_info": {
   "codemirror_mode": {
    "name": "ipython",
    "version": 3
   },
   "file_extension": ".py",
   "mimetype": "text/x-python",
   "name": "python",
   "nbconvert_exporter": "python",
   "pygments_lexer": "ipython3",
   "version": "3.8.5"
  }
 },
 "nbformat": 4,
 "nbformat_minor": 4
}
